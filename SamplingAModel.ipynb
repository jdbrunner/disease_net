{
 "cells": [
  {
   "cell_type": "markdown",
   "metadata": {},
   "source": [
    "Stochastic SIR Model with testing (no removal of tested individuals from population).\n",
    "\n",
    "Reaction - Propensity\n",
    "- S+I -> 2I - beta(s,i)\n",
    "- I -> R - gamma(s,i)\n",
    "- S -> S + St - lambdas(s,i,r) (Implies that a susceptible and a tested susceptible behave in the same way)\n",
    "- I -> I + It - lambdai(s,i,r) (\" \")\n",
    "- R -> R + Rt - lambdar(s,i,r) (\" \")\n",
    "\n",
    "For unbiased testing, we take\n",
    "\n",
    "- lambdas = lambda S/(S+I+R)\n",
    "- lambdai = lambda I/(S+I+R)\n",
    "- lambdar = lambda R/(S+I+R)\n",
    "\n",
    "For biased testing we take\n",
    "\n",
    "- lambdas = lambda a1S/(a1S+a2I+a3R)\n",
    "- lambdai = lambda a2I/(a1S+a2I+a3R)\n",
    "- lambdar = lambda a3R/(a1S+a2I+a3R)\n",
    "\n",
    "We may wish to vary lambda and a1,a2,a3 some \"test availability\" parameter."
   ]
  },
  {
   "cell_type": "code",
   "execution_count": 1,
   "metadata": {},
   "outputs": [],
   "source": [
    "import numpy as np\n",
    "from numpy.random import exponential as exp\n",
    "from numpy.random import rand\n",
    "import matplotlib.pyplot as plt\n",
    "from scipy.integrate import ode"
   ]
  },
  {
   "cell_type": "code",
   "execution_count": 192,
   "metadata": {},
   "outputs": [],
   "source": [
    "#we will generate test simulations with Gillespie's algorithm\n",
    "def stochastic_sir(x0,end_time,beta_fun,gamma_fun,lambda_fun,bias_fun,LambdaMax):\n",
    "    s,i,r = x0\n",
    "    tested_neg = 0\n",
    "    tested_pos = 0\n",
    "    total_pos = i\n",
    "    t = 0\n",
    "    t_list = [t]\n",
    "    sir_list = [[s,i,r]]\n",
    "    tested_neg_list = [0]\n",
    "    tested_pos_list = [0]\n",
    "    total_pos_list = [total_pos]\n",
    "    \n",
    "    while (t < end_time) or ((len(t_list))<100):\n",
    "        beta = beta_fun(s,i,r,t)\n",
    "        gamma = gamma_fun(s,i,r,t)\n",
    "        lamb0 = beta+gamma+LambdaMax\n",
    "      \n",
    "        \n",
    "        if lamb0:\n",
    "            dt = exp(1/lamb0)\n",
    "            t = t+dt \n",
    "\n",
    "            u  = rand()\n",
    "        \n",
    "            if u < beta/lamb0: #next event is infection\n",
    "                s = s-1\n",
    "                i = i+1 #change s,i\n",
    "                sir_list += [[s,i,r]]\n",
    "                total_pos += 1 #record a new (real) positive\n",
    "                total_pos_list += [total_pos]\n",
    "                tested_pos_list += [tested_pos]\n",
    "                tested_neg_list += [tested_neg]\n",
    "                t_list += [t] #update time.\n",
    "            elif u < (beta + gamma)/lamb0: #next event is recovery\n",
    "                i = i-1\n",
    "                r = r+1 #change i,r\n",
    "                sir_list += [[s,i,r]]\n",
    "                total_pos_list += [total_pos] \n",
    "                tested_pos_list += [tested_pos]\n",
    "                tested_neg_list += [tested_neg]\n",
    "                t_list += [t] #update time.\n",
    "            else: #next event is a test or nothing.\n",
    "                lamb = lambda_fun(s,i,r,t,LambdaMax)\n",
    "                bias = bias_fun(s,i,r,t)\n",
    "                bias_N = s*bias[0] + i*bias[1] + r*bias[2]\n",
    "                lambdas = lamb*bias[0]*s/bias_N\n",
    "                lambdai = lamb*bias[1]*i/bias_N\n",
    "                lambdar = lamb*bias[2]*r/bias_N\n",
    "                total_pos_list += [total_pos] \n",
    "                sir_list += [[s,i,r]]\n",
    "                if u < (beta+gamma+lambdas)/lamb0: #tested a \"s\"\n",
    "                    tested_neg += 1\n",
    "                    tested_neg_list += [tested_neg]\n",
    "                    tested_pos_list += [tested_pos]\n",
    "                    t_list += [t] #update time.\n",
    "                elif u < (beta+gamma+lambdas+lambdai)/lamb0: #tested a \"i\"\n",
    "                    tested_pos += 1\n",
    "                    tested_pos_list += [tested_pos]\n",
    "                    tested_neg_list += [tested_neg]\n",
    "                    t_list += [t] #update time.\n",
    "                elif u < (beta+gamma+lambdas+lambdai+lambdar)/lamb0: #tested a \"r\"\n",
    "                    tested_neg += 1\n",
    "                    tested_neg_list += [tested_neg]\n",
    "                    tested_pos_list += [tested_pos]\n",
    "                    t_list += [t] #update time.\n",
    "                \n",
    "                \n",
    "        else:\n",
    "            break\n",
    "        \n",
    "    return (np.array(t_list), np.array(sir_list), np.array(total_pos_list)), (np.array(t_list),np.array(tested_neg_list),np.array(tested_pos_list))\n",
    "\n"
   ]
  },
  {
   "cell_type": "code",
   "execution_count": 199,
   "metadata": {},
   "outputs": [],
   "source": [
    "N = 100\n",
    "LambdaMax = 10\n",
    "\n",
    "init_inf = 0.01\n",
    "izero = int(init_inf*N)\n",
    "szero = N-izero\n",
    "\n",
    "R0 = 3"
   ]
  },
  {
   "cell_type": "code",
   "execution_count": 235,
   "metadata": {},
   "outputs": [],
   "source": [
    "def Beta(s,i,r,t):\n",
    "    return (R0)*s*i/(s+i+r)\n",
    "def Gamma(s,i,r,t):\n",
    "    return i\n",
    "def Lamb(s,i,r,t,LM):\n",
    "    return LM*t/(1+t)\n",
    "def Bias(s,i,r,t):\n",
    "    return [1,1,1]"
   ]
  },
  {
   "cell_type": "code",
   "execution_count": 201,
   "metadata": {},
   "outputs": [],
   "source": [
    "infection,testing = stochastic_sir([szero,izero,0],15,Beta,Gamma,Lamb,Bias,LambdaMax)"
   ]
  },
  {
   "cell_type": "code",
   "execution_count": 202,
   "metadata": {},
   "outputs": [
    {
     "data": {
      "text/plain": [
       "[<matplotlib.lines.Line2D at 0x131aba4a8>,\n",
       " <matplotlib.lines.Line2D at 0x131aba5f8>,\n",
       " <matplotlib.lines.Line2D at 0x131aba748>]"
      ]
     },
     "execution_count": 202,
     "metadata": {},
     "output_type": "execute_result"
    },
    {
     "data": {
      "image/png": "[encoded data removed]",
      "text/plain": [
       "<Figure size 432x288 with 1 Axes>"
      ]
     },
     "metadata": {
      "needs_background": "light"
     },
     "output_type": "display_data"
    }
   ],
   "source": [
    "plt.plot(infection[0],infection[1]/N)"
   ]
  },
  {
   "cell_type": "code",
   "execution_count": 203,
   "metadata": {},
   "outputs": [
    {
     "data": {
      "text/plain": [
       "[<matplotlib.lines.Line2D at 0x131b1e2e8>]"
      ]
     },
     "execution_count": 203,
     "metadata": {},
     "output_type": "execute_result"
    },
    {
     "data": {
      "image/png": "[encoded data removed]",
      "text/plain": [
       "<Figure size 432x288 with 1 Axes>"
      ]
     },
     "metadata": {
      "needs_background": "light"
     },
     "output_type": "display_data"
    }
   ],
   "source": [
    "plt.plot(infection[0],infection[2])"
   ]
  },
  {
   "cell_type": "code",
   "execution_count": 204,
   "metadata": {},
   "outputs": [
    {
     "data": {
      "text/plain": [
       "[<matplotlib.lines.Line2D at 0x131c27eb8>]"
      ]
     },
     "execution_count": 204,
     "metadata": {},
     "output_type": "execute_result"
    },
    {
     "data": {
      "image/png": "[encoded data removed]",
      "text/plain": [
       "<Figure size 432x288 with 1 Axes>"
      ]
     },
     "metadata": {
      "needs_background": "light"
     },
     "output_type": "display_data"
    }
   ],
   "source": [
    "plt.plot(testing[0],testing[2])"
   ]
  },
  {
   "cell_type": "code",
   "execution_count": 205,
   "metadata": {},
   "outputs": [
    {
     "data": {
      "text/plain": [
       "[<matplotlib.lines.Line2D at 0x131c95080>]"
      ]
     },
     "execution_count": 205,
     "metadata": {},
     "output_type": "execute_result"
    },
    {
     "data": {
      "image/png": "[encoded data removed]",
      "text/plain": [
       "<Figure size 432x288 with 1 Axes>"
      ]
     },
     "metadata": {
      "needs_background": "light"
     },
     "output_type": "display_data"
    }
   ],
   "source": [
    "plt.plot(testing[0],testing[2]/infection[2])"
   ]
  },
  {
   "cell_type": "code",
   "execution_count": 206,
   "metadata": {},
   "outputs": [
    {
     "data": {
      "text/plain": [
       "0.13541666666666666"
      ]
     },
     "execution_count": 206,
     "metadata": {},
     "output_type": "execute_result"
    }
   ],
   "source": [
    "np.max(testing[2]/infection[2])"
   ]
  },
  {
   "cell_type": "markdown",
   "metadata": {},
   "source": [
    "Below, we have the non-dimensionalized deterministic SIR model."
   ]
  },
  {
   "cell_type": "code",
   "execution_count": 211,
   "metadata": {},
   "outputs": [],
   "source": [
    "def SIR_model_rescaled(t,X,params):\n",
    "    R0 = params\n",
    "    s,i,r= X\n",
    "    dsdt = -R0*s*i\n",
    "    didt = -dsdt - i\n",
    "    drdt = i\n",
    "    return [dsdt,didt,drdt]"
   ]
  },
  {
   "cell_type": "code",
   "execution_count": 213,
   "metadata": {},
   "outputs": [],
   "source": [
    "s0 = (1-init_inf)\n",
    "i0 = init_inf\n",
    "r0 = 0\n",
    "\n",
    "t0 = 0 \n",
    "end_time = 10\n",
    "tst = 0.01\n",
    "\n",
    "sir_sol = ode(SIR_model_rescaled)\n",
    "sir_sol.set_f_params(np.array([R0]))\n",
    "sir_sol.set_initial_value([s0,i0,r0],0)\n",
    "\n",
    "time_array = np.array([t0])\n",
    "sol_list = [[s0,i0,r0,i0]]\n",
    "for tpt in np.arange(t0,end_time,tst):\n",
    "    s,i,r = sir_sol.integrate(sir_sol.t + tst)\n",
    "    sol_list = sol_list + [[s,i,r,T]]\n",
    "    time_array = np.append(time_array,sir_sol.t)\n",
    "sol_array = np.array(sol_list)\n",
    "sim_length = len(sol_array)"
   ]
  },
  {
   "cell_type": "code",
   "execution_count": 214,
   "metadata": {},
   "outputs": [
    {
     "data": {
      "text/plain": [
       "[<matplotlib.lines.Line2D at 0x131d63dd8>,\n",
       " <matplotlib.lines.Line2D at 0x131d63f28>,\n",
       " <matplotlib.lines.Line2D at 0x131d6d0b8>]"
      ]
     },
     "execution_count": 214,
     "metadata": {},
     "output_type": "execute_result"
    },
    {
     "data": {
      "image/png": "[encoded data removed]",
      "text/plain": [
       "<Figure size 432x288 with 1 Axes>"
      ]
     },
     "metadata": {
      "needs_background": "light"
     },
     "output_type": "display_data"
    }
   ],
   "source": [
    "plt.plot(time_array,sol_array.T[0],time_array,sol_array.T[1],time_array,sol_array.T[2])"
   ]
  },
  {
   "cell_type": "code",
   "execution_count": 217,
   "metadata": {},
   "outputs": [
    {
     "data": {
      "text/plain": [
       "[<matplotlib.lines.Line2D at 0x131feb7f0>]"
      ]
     },
     "execution_count": 217,
     "metadata": {},
     "output_type": "execute_result"
    },
    {
     "data": {
      "image/png": "[encoded data removed]",
      "text/plain": [
       "<Figure size 432x288 with 1 Axes>"
      ]
     },
     "metadata": {
      "needs_background": "light"
     },
     "output_type": "display_data"
    }
   ],
   "source": [
    "plt.plot(time_array,s0-sol_array.T[0] + i0)"
   ]
  },
  {
   "cell_type": "markdown",
   "metadata": {},
   "source": [
    "We can model stochastic sampling of the deterministic model. Because we have propensities that sum to lambda, we this is (relatively) easy if lambda is constant. If lambda is not constant, we can still compute without much difficulty as long as we have a relatively tight upper bound on lambda. We'll call this lambdaMax.\n",
    "\n",
    "Below, we compute the trajectory as well as counting sampling."
   ]
  },
  {
   "cell_type": "code",
   "execution_count": 236,
   "metadata": {},
   "outputs": [],
   "source": [
    "def sample_traj(x0,t0,end_time,dynamics,dynamics_params,lambdafun,biasfun,LambdaMax):\n",
    "    \n",
    "    #dynamics should model susceptible, infected, recovered. (for now)\n",
    "\n",
    "    s0,i0,r0 = x0\n",
    "\n",
    "    odemod = ode(dynamics)\n",
    "    odemod.set_f_params(dynamics_params)\n",
    "    odemod.set_initial_value([s0,i0,r0],0)\n",
    "    \n",
    "    tot_cases = [i0]\n",
    "\n",
    "    time_array = np.array([t0])\n",
    "    st,it,rt = [0,0,0]\n",
    "    test_list = [[st,it,rt]]\n",
    "    t = 0\n",
    "    \n",
    "    while odemod.successful and odemod.t < end_time:\n",
    "        dt = exp(1/LambdaMax)\n",
    "        s,i,r = odemod.integrate(odemod.t + dt)\n",
    "        lamb = lambdafun(s,i,r,odemod.t,LambdaMax)\n",
    "        bias = biasfun(s,i,r,odemod.t)\n",
    "        bias_N = s*bias[0] + i*bias[1] + r*bias[2]\n",
    "        lambdas = lamb*bias[0]*s/bias_N\n",
    "        lambdai = lamb*bias[1]*i/bias_N\n",
    "        lambdar = lamb*bias[2]*r/bias_N\n",
    "        u = LambdaMax*rand()\n",
    "        if u < lambdas: #tested a \"s\"\n",
    "            st += 1\n",
    "            test_list += [[st,it,rt]]\n",
    "            time_array = np.append(time_array,odemod.t)\n",
    "            tot_cases += [s0-s+i0]\n",
    "        elif u < (lambdas + lambdai): #tested a \"i\"\n",
    "            it += 1\n",
    "            test_list += [[st,it,rt]]\n",
    "            time_array = np.append(time_array,odemod.t)\n",
    "            tot_cases += [s0-s+i0]\n",
    "        elif u < (lambdas + lambdai + lambdar): #tested a \"r\"\n",
    "            rt += 1\n",
    "            test_list += [[st,it,rt]]\n",
    "            time_array = np.append(time_array,odemod.t)\n",
    "            tot_cases += [s0-s+i0]\n",
    "\n",
    "    return time_array,np.array(test_list),np.array(tot_cases)\n",
    "            \n",
    "\n",
    "\n",
    "        "
   ]
  },
  {
   "cell_type": "code",
   "execution_count": 237,
   "metadata": {},
   "outputs": [],
   "source": [
    "t,tests,cases = sample_traj([s0,i0,r0],0,10,SIR_model_rescaled,np.array([R0]),Lamb,Bias,LambdaMax)"
   ]
  },
  {
   "cell_type": "code",
   "execution_count": 238,
   "metadata": {},
   "outputs": [
    {
     "data": {
      "text/plain": [
       "[<matplotlib.lines.Line2D at 0x13244dcc0>]"
      ]
     },
     "execution_count": 238,
     "metadata": {},
     "output_type": "execute_result"
    },
    {
     "data": {
      "image/png": "[encoded data removed]",
      "text/plain": [
       "<Figure size 432x288 with 1 Axes>"
      ]
     },
     "metadata": {
      "needs_background": "light"
     },
     "output_type": "display_data"
    }
   ],
   "source": [
    "plt.plot(t,tests.T[1]/(N*cases))"
   ]
  },
  {
   "cell_type": "code",
   "execution_count": null,
   "metadata": {},
   "outputs": [],
   "source": [
    "plt.plot(t,tests.T[1]/cases)"
   ]
  }
 ],
 "metadata": {
  "kernelspec": {
   "display_name": "Python 3",
   "language": "python",
   "name": "python3"
  },
  "language_info": {
   "codemirror_mode": {
    "name": "ipython",
    "version": 3
   },
   "file_extension": ".py",
   "mimetype": "text/x-python",
   "name": "python",
   "nbconvert_exporter": "python",
   "pygments_lexer": "ipython3",
   "version": "3.7.3"
  }
 },
 "nbformat": 4,
 "nbformat_minor": 2
}
