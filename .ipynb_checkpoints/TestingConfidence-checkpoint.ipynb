{
 "cells": [
  {
   "cell_type": "code",
   "execution_count": 10,
   "metadata": {},
   "outputs": [],
   "source": [
    "import numpy as np\n",
    "import json\n",
    "import matplotlib.pyplot as plt\n",
    "import covid_funs\n",
    "import importlib"
   ]
  },
  {
   "cell_type": "code",
   "execution_count": 13,
   "metadata": {},
   "outputs": [
    {
     "data": {
      "text/plain": [
       "<module 'covid_funs' from '/Users/m197894/Documents/COVID_Model/disease_net/covid_funs.py'>"
      ]
     },
     "execution_count": 13,
     "metadata": {},
     "output_type": "execute_result"
    }
   ],
   "source": [
    "importlib.reload(covid_funs)"
   ]
  },
  {
   "cell_type": "markdown",
   "metadata": {},
   "source": [
    "We can generate a simulated outbreak using the SIR model:"
   ]
  },
  {
   "cell_type": "code",
   "execution_count": 19,
   "metadata": {},
   "outputs": [],
   "source": [
    "Bias = 1 #Bias = 1 means no bias. Higher puts bias towards testing symptomatic individuals.\n",
    "capacities = [100,500,1000,2500,5000]\n",
    "\n",
    "def SIR_model(t,X,params):\n",
    "    s,i,r= X\n",
    "    beta,recrate = params\n",
    "    if callable(beta):\n",
    "        dsdt = -(beta(s,i,r,t))*s*i\n",
    "    else:\n",
    "        dsdt = -beta*s*i\n",
    "    didt = -dsdt - recrate*i\n",
    "    drdt = recrate*i\n",
    "    return [dsdt,didt,drdt]\n",
    "\n",
    "timescale = 15 #1/gamma\n",
    "\n",
    "\n",
    "init_inf = 0.01\n",
    "\n",
    "s0 = (1-init_inf)\n",
    "i0 = init_inf\n",
    "r0 = 0\n",
    "\n",
    "R0 = 2.2\n",
    "\n",
    "end_time = 200\n",
    "\n",
    "dynamics = covid_funs.gen_jsons(end_time,[s0,i0,r0],SIR_model,1,-1,[0,2],[R0/timescale,1/timescale],Bias,capacities)"
   ]
  },
  {
   "cell_type": "code",
   "execution_count": 16,
   "metadata": {},
   "outputs": [
    {
     "data": {
      "text/plain": [
       "dict_keys(['TimePoints', 'Symptomatic', 'Asymptomatic', 'NonInfected'])"
      ]
     },
     "execution_count": 16,
     "metadata": {},
     "output_type": "execute_result"
    }
   ],
   "source": [
    "dynamics.keys()"
   ]
  },
  {
   "cell_type": "code",
   "execution_count": 20,
   "metadata": {},
   "outputs": [
    {
     "data": {
      "text/plain": [
       "[<matplotlib.lines.Line2D at 0x12af7c7f0>]"
      ]
     },
     "execution_count": 20,
     "metadata": {},
     "output_type": "execute_result"
    },
    {
     "data": {
      "image/png": "[encoded data removed]",
      "text/plain": [
       "<Figure size 432x288 with 1 Axes>"
      ]
     },
     "metadata": {
      "needs_background": "light"
     },
     "output_type": "display_data"
    }
   ],
   "source": [
    "total_infected = np.array(dynamics['Symptomatic']) + np.array(dynamics['Asymptomatic'])\n",
    "plt.plot(dynamics[\"TimePoints\"],total_infected)"
   ]
  },
  {
   "cell_type": "code",
   "execution_count": null,
   "metadata": {},
   "outputs": [],
   "source": []
  },
  {
   "cell_type": "code",
   "execution_count": 22,
   "metadata": {},
   "outputs": [],
   "source": [
    "%%bash\n",
    "./disease_confidence -Dynamics=json_io/dynamics.json -TestingBias=json_io/bias.json -TestingCapacities=json_io/capacity.json -SaveFile=json_io/samplesims -Trials=1"
   ]
  },
  {
   "cell_type": "code",
   "execution_count": null,
   "metadata": {},
   "outputs": [],
   "source": []
  }
 ],
 "metadata": {
  "kernelspec": {
   "display_name": "Python 3",
   "language": "python",
   "name": "python3"
  },
  "language_info": {
   "codemirror_mode": {
    "name": "ipython",
    "version": 3
   },
   "file_extension": ".py",
   "mimetype": "text/x-python",
   "name": "python",
   "nbconvert_exporter": "python",
   "pygments_lexer": "ipython3",
   "version": "3.7.3"
  }
 },
 "nbformat": 4,
 "nbformat_minor": 2
}
