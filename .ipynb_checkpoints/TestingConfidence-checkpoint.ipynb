{
 "cells": [
  {
   "cell_type": "code",
   "execution_count": 2,
   "metadata": {},
   "outputs": [],
   "source": [
    "import numpy as np\n",
    "import json\n",
    "import matplotlib.pyplot as plt\n",
    "import covid_funs\n",
    "import importlib\n",
    "import subprocess\n",
    "import sys\n",
    "import shlex"
   ]
  },
  {
   "cell_type": "code",
   "execution_count": 3,
   "metadata": {},
   "outputs": [],
   "source": [
    "#from https://www.endpoint.com/blog/2015/01/28/getting-realtime-output-using-python\n",
    "def run_command(command):\n",
    "    process = subprocess.Popen(shlex.split(command), stdout=subprocess.PIPE, stderr = subprocess.STDOUT, text = False)\n",
    "    outlist = []\n",
    "    while True:\n",
    "        output = process.stdout.readline()\n",
    "        outlist += [output]\n",
    "        if output.decode(\"utf-8\") == '' and process.poll() is not None:\n",
    "            break\n",
    "        if output:\n",
    "            if '\\r' in output.decode(\"utf-8\"):\n",
    "                \n",
    "                sys.stdout.write('\\r' + output.decode(\"utf-8\").strip())\n",
    "            else:\n",
    "                sys.stdout.write(output.decode(\"utf-8\"))\n",
    "    rc = process.poll()\n",
    "    return rc,outlist"
   ]
  },
  {
   "cell_type": "code",
   "execution_count": 94,
   "metadata": {},
   "outputs": [
    {
     "data": {
      "text/plain": [
       "<module 'covid_funs' from '/Users/m197894/Documents/COVID_Model/disease_net/covid_funs.py'>"
      ]
     },
     "execution_count": 94,
     "metadata": {},
     "output_type": "execute_result"
    }
   ],
   "source": []
  },
  {
   "cell_type": "markdown",
   "metadata": {},
   "source": [
    "We can generate a simulated outbreak using the SIR model. We also give sampling bias and capacity. If capacity is given as a list, samples will be later generated for each capacity in the list. Capacity can also be given as a list (implying max capacities) and a function (which should take values from 0 to 1) for time-varying capacty. For this, pass the function as a keyword argument capacityfun to gen_jsons."
   ]
  },
  {
   "cell_type": "code",
   "execution_count": 41,
   "metadata": {},
   "outputs": [],
   "source": [
    "Bias = 1 #Bias = 1 means no bias. Higher puts bias towards testing symptomatic individuals.\n",
    "capacities = [100,300,900,2700,8100]\n",
    "\n",
    "def SIR_model(t,X,params):\n",
    "    s,i,r= X\n",
    "    beta,recrate = params\n",
    "    if callable(beta):\n",
    "        dsdt = -(beta(s,i,r,t))*s*i\n",
    "    else:\n",
    "        dsdt = -beta*s*i\n",
    "    didt = -dsdt - recrate*i\n",
    "    drdt = recrate*i\n",
    "    return [dsdt,didt,drdt]\n",
    "\n",
    "timescale = 15 #1/gamma\n",
    "\n",
    "\n",
    "init_inf = 0.01\n",
    "\n",
    "s0 = (1-init_inf)\n",
    "i0 = init_inf\n",
    "r0 = 0\n",
    "\n",
    "R0 = 2.2\n",
    "\n",
    "end_time = 100\n",
    "\n",
    "dynamics = covid_funs.gen_jsons(end_time,[s0,i0,r0],SIR_model,1,-1,[0,2],[R0/timescale,1/timescale],Bias,capacities)"
   ]
  },
  {
   "cell_type": "markdown",
   "metadata": {},
   "source": [
    "Note that we don't have to generate dynamics using an ODE. We could generate dynamics using a stochastic process, or simply assert a course of epidemic."
   ]
  },
  {
   "cell_type": "code",
   "execution_count": 5,
   "metadata": {},
   "outputs": [
    {
     "data": {
      "text/plain": [
       "dict_keys(['TimePoints', 'Symptomatic', 'Asymptomatic', 'NonInfected'])"
      ]
     },
     "execution_count": 5,
     "metadata": {},
     "output_type": "execute_result"
    }
   ],
   "source": [
    "dynamics.keys()"
   ]
  },
  {
   "cell_type": "code",
   "execution_count": 43,
   "metadata": {},
   "outputs": [
    {
     "data": {
      "text/plain": [
       "<matplotlib.legend.Legend at 0x12e525a20>"
      ]
     },
     "execution_count": 43,
     "metadata": {},
     "output_type": "execute_result"
    },
    {
     "data": {
      "image/png": "[encoded data removed]",
      "text/plain": [
       "<Figure size 720x360 with 1 Axes>"
      ]
     },
     "metadata": {
      "needs_background": "light"
     },
     "output_type": "display_data"
    }
   ],
   "source": [
    "total_infected = np.array(dynamics['Symptomatic']) + np.array(dynamics['Asymptomatic'])\n",
    "\n",
    "fig,ax = plt.subplots(figsize = (10,5))\n",
    "ax.plot(dynamics[\"TimePoints\"],total_infected, label = \"Infection Proportion\")\n",
    "\n",
    "ax.legend()"
   ]
  },
  {
   "cell_type": "markdown",
   "metadata": {},
   "source": [
    "We use a .go executible to generate simulated sampling."
   ]
  },
  {
   "cell_type": "code",
   "execution_count": 84,
   "metadata": {},
   "outputs": [
    {
     "name": "stdout",
     "output_type": "stream",
     "text": [
      "CPU times: user 54 ms, sys: 18.5 ms, total: 72.6 ms\n",
      "Wall time: 1min 5s\n"
     ]
    }
   ],
   "source": [
    "%%time\n",
    "svfl = \"json_io/testresults.json\"\n",
    "dynamicsfl = \"json_io/dynamics.json\"\n",
    "biasfl = \"json_io/bias.json\"\n",
    "capfl = \"json_io/capacity.json\"\n",
    "num_trials = 10\n",
    "falsePos = 0.1\n",
    "falseNeg = 0.1\n",
    "smth = 5\n",
    "peak_tol = 3\n",
    "\n",
    "base_command = \"./disease_confidence\"\n",
    "opts = [\"-Dynamics=\"+dynamicsfl]\n",
    "opts +=[\"-TestingBias=\"+biasfl]\n",
    "opts +=[\"-TestingCapacities=\"+capfl]\n",
    "opts +=[\"-Trials=\"+str(num_trials)]\n",
    "opts +=[\"-SaveFile=\"+svfl]\n",
    "opts +=[\"-FalsePositive=\"+str(falsePos)]\n",
    "opts +=[\"-FalseNegative=\"+str(falseNeg)]\n",
    "opts +=[\"-Smoothing=\"+str(smth)]\n",
    "opts +=[\"-PeakTol=\"+str(peak_tol)]\n",
    "\n",
    "\n",
    "full_command = base_command + \" \" + \" \".join(opts)\n",
    "so = run_command(full_command)\n",
    "\n",
    "with open(svfl) as fl:\n",
    "    results = json.load(fl)"
   ]
  },
  {
   "cell_type": "code",
   "execution_count": 85,
   "metadata": {},
   "outputs": [
    {
     "data": {
      "text/plain": [
       "dict_keys(['Peaks', 'SumSqDistance', 'Performance', 'SimulatedData'])"
      ]
     },
     "execution_count": 85,
     "metadata": {},
     "output_type": "execute_result"
    }
   ],
   "source": [
    "results.keys()"
   ]
  },
  {
   "cell_type": "code",
   "execution_count": 176,
   "metadata": {},
   "outputs": [],
   "source": [
    "pos_prop = {}\n",
    "for ky in results[\"SimulatedData\"]:\n",
    "    smps = []\n",
    "    times = []\n",
    "    for sample in results[\"SimulatedData\"][ky]:\n",
    "        smps += [np.array(sample[\"DailyPositive\"])/np.array(sample[\"DailyTotal\"])]\n",
    "        times += [np.array(sample[\"DayTimes\"])]\n",
    "    pos_prop[ky] = (smps,times)"
   ]
  },
  {
   "cell_type": "code",
   "execution_count": 56,
   "metadata": {},
   "outputs": [
    {
     "data": {
      "text/plain": [
       "dict_keys(['100', '2700', '300', '8100', '900'])"
      ]
     },
     "execution_count": 56,
     "metadata": {},
     "output_type": "execute_result"
    }
   ],
   "source": [
    "pos_prop.keys()"
   ]
  },
  {
   "cell_type": "code",
   "execution_count": 178,
   "metadata": {},
   "outputs": [
    {
     "data": {
      "text/plain": [
       "<matplotlib.legend.Legend at 0x12f3e7710>"
      ]
     },
     "execution_count": 178,
     "metadata": {},
     "output_type": "execute_result"
    },
    {
     "data": {
      "image/png": "[encoded data removed]",
      "text/plain": [
       "<Figure size 720x360 with 1 Axes>"
      ]
     },
     "metadata": {
      "needs_background": "light"
     },
     "output_type": "display_data"
    }
   ],
   "source": [
    "\n",
    "fig,ax = plt.subplots(figsize = (10,5))\n",
    "ax.plot(dynamics[\"TimePoints\"],total_infected, label = \"Infection Proportion\", color = 'red')\n",
    "ax.bar(pos_prop[\"900\"][1][0],pos_prop[\"900\"][0][0], label = \"Positive Test Proportion\")\n",
    "\n",
    "ax.legend()"
   ]
  },
  {
   "cell_type": "code",
   "execution_count": 149,
   "metadata": {},
   "outputs": [
    {
     "data": {
      "text/plain": [
       "<module 'covid_funs' from '/Users/m197894/Documents/COVID_Model/disease_net/covid_funs.py'>"
      ]
     },
     "execution_count": 149,
     "metadata": {},
     "output_type": "execute_result"
    }
   ],
   "source": []
  },
  {
   "cell_type": "code",
   "execution_count": 179,
   "metadata": {},
   "outputs": [
    {
     "data": {
      "text/plain": [
       "(0.0038704621314097926, 0.003955423361253156)"
      ]
     },
     "execution_count": 179,
     "metadata": {},
     "output_type": "execute_result"
    }
   ],
   "source": [
    "samptrend = covid_funs.find_trend(pos_prop[\"900\"][0][0],pos_prop[\"900\"][1][0],[20,30])\n",
    "realtrend = covid_funs.find_trend(total_infected,dynamics[\"TimePoints\"],[20,30])\n",
    "(samptrend,realtrend)"
   ]
  },
  {
   "cell_type": "code",
   "execution_count": 180,
   "metadata": {},
   "outputs": [],
   "source": [
    "t1 = np.argwhere(20<=np.array(dynamics[\"TimePoints\"]))[0,0]\n",
    "t2 = np.argwhere(30<=np.array(dynamics[\"TimePoints\"]))[0,0]"
   ]
  },
  {
   "cell_type": "code",
   "execution_count": 181,
   "metadata": {},
   "outputs": [
    {
     "data": {
      "text/plain": [
       "(2000, 3000)"
      ]
     },
     "execution_count": 181,
     "metadata": {},
     "output_type": "execute_result"
    }
   ],
   "source": [
    "t1,t2"
   ]
  },
  {
   "cell_type": "code",
   "execution_count": 182,
   "metadata": {},
   "outputs": [
    {
     "data": {
      "text/plain": [
       "<matplotlib.legend.Legend at 0x133bad9e8>"
      ]
     },
     "execution_count": 182,
     "metadata": {},
     "output_type": "execute_result"
    },
    {
     "data": {
      "image/png": "[encoded data removed]",
      "text/plain": [
       "<Figure size 720x360 with 1 Axes>"
      ]
     },
     "metadata": {
      "needs_background": "light"
     },
     "output_type": "display_data"
    }
   ],
   "source": [
    "fig,ax = plt.subplots(figsize = (10,5))\n",
    "ax.bar(pos_prop[\"900\"][1][0][20:30],pos_prop[\"900\"][0][0][20:30], label = \"Positive Test Proportion\")\n",
    "ax.plot(dynamics[\"TimePoints\"][t1:t2],total_infected[t1:t2], label = \"Infection Proportion\", color = 'red')\n",
    "ax.legend()"
   ]
  },
  {
   "cell_type": "code",
   "execution_count": 183,
   "metadata": {},
   "outputs": [],
   "source": [
    "real_trend,realwindows = covid_funs.test_all_windows(total_infected,dynamics[\"TimePoints\"],5)\n",
    "samp_trend,sampwindows = covid_funs.test_all_windows(pos_prop[\"900\"][0][0],pos_prop[\"900\"][1][0],5)"
   ]
  },
  {
   "cell_type": "code",
   "execution_count": 184,
   "metadata": {},
   "outputs": [
    {
     "data": {
      "text/plain": [
       "<matplotlib.legend.Legend at 0x133c33e48>"
      ]
     },
     "execution_count": 184,
     "metadata": {},
     "output_type": "execute_result"
    },
    {
     "data": {
      "image/png": "[encoded data removed]",
      "text/plain": [
       "<Figure size 720x360 with 1 Axes>"
      ]
     },
     "metadata": {
      "needs_background": "light"
     },
     "output_type": "display_data"
    }
   ],
   "source": [
    "fig,ax = plt.subplots(figsize = (10,5))\n",
    "ax.plot(realwindows,real_trend, label = \"Infection Proportion Trend\", color = 'red')\n",
    "ax.plot(sampwindows,samp_trend, label = \"Infection Proportion Trend\", color = 'blue')\n",
    "ax.legend()"
   ]
  },
  {
   "cell_type": "code",
   "execution_count": 194,
   "metadata": {},
   "outputs": [
    {
     "data": {
      "text/plain": [
       "<module 'covid_funs' from '/Users/m197894/Documents/COVID_Model/disease_net/covid_funs.py'>"
      ]
     },
     "execution_count": 194,
     "metadata": {},
     "output_type": "execute_result"
    }
   ],
   "source": [
    "importlib.reload(covid_funs)"
   ]
  },
  {
   "cell_type": "code",
   "execution_count": 192,
   "metadata": {},
   "outputs": [
    {
     "data": {
      "text/plain": [
       "(array([3.91987915e-07, 2.93634221e-06, 1.06312983e-04, 1.17758337e-07,\n",
       "        3.67997338e-06, 1.39429982e-05, 4.16157278e-05, 7.41204991e-06,\n",
       "        6.13524150e-05, 5.11260473e-06, 1.60653723e-07, 1.76915909e-06,\n",
       "        1.21913734e-08, 2.63550035e-05, 1.41672055e-04, 6.04527090e-06,\n",
       "        2.19554315e-06, 6.90929004e-06, 4.23699038e-05, 1.61413746e-05]),\n",
       " 0.004932064912947633,\n",
       " 0.7)"
      ]
     },
     "execution_count": 192,
     "metadata": {},
     "output_type": "execute_result"
    }
   ],
   "source": [
    "covid_funs.trendError(real_trend,samp_trend)"
   ]
  },
  {
   "cell_type": "code",
   "execution_count": 196,
   "metadata": {},
   "outputs": [],
   "source": [
    "five_day_conf = {}\n",
    "for ky in pos_prop.keys():\n",
    "    five_day_conf[ky] = covid_funs.trendConfidence(pos_prop[ky][0],pos_prop[ky][1],total_infected,dynamics[\"TimePoints\"],5)\n",
    "\n"
   ]
  },
  {
   "cell_type": "code",
   "execution_count": 197,
   "metadata": {},
   "outputs": [
    {
     "data": {
      "text/plain": [
       "{'100': 0.5549999999999999,\n",
       " '2700': 0.805,\n",
       " '300': 0.63,\n",
       " '8100': 0.8850000000000001,\n",
       " '900': 0.74}"
      ]
     },
     "execution_count": 197,
     "metadata": {},
     "output_type": "execute_result"
    }
   ],
   "source": [
    "five_day_conf"
   ]
  },
  {
   "cell_type": "markdown",
   "metadata": {},
   "source": [
    "The go executible tries to find peaks in the dynamics. We can asses the precision and recall of this."
   ]
  },
  {
   "cell_type": "code",
   "execution_count": 72,
   "metadata": {},
   "outputs": [],
   "source": [
    "recall = {}\n",
    "for ky,val in results[\"Performance\"].items():\n",
    "    recall[ky] = sum([pk[\"Found\"] for dyn in val for  pk in dyn[\"Recalls\"]])/sum([len(v[\"Recalls\"]) for v in val])\n",
    "    \n",
    "precision = {}\n",
    "for ky,val in results[\"Performance\"].items():\n",
    "    precision[ky] = sum([pk[\"Real\"] for dyn in val for  pk in dyn[\"Precisions\"]])/sum([len(v[\"Precisions\"]) for v in val])\n",
    "    \n",
    "mean_sq_error = {}\n",
    "for ky,val in results[\"Performance\"].items():\n",
    "    mean_sq_error[ky] =[(sum([(pk[\"SqDist\"])**2 for pk in dyn[\"Precisions\"]])/len(dyn[\"Precisions\"]))**(1/2) for dyn in val]"
   ]
  },
  {
   "cell_type": "code",
   "execution_count": 73,
   "metadata": {},
   "outputs": [
    {
     "data": {
      "text/plain": [
       "{'100': 0.8, '2700': 0.9, '300': 0.8, '8100': 1.0, '900': 0.9}"
      ]
     },
     "execution_count": 73,
     "metadata": {},
     "output_type": "execute_result"
    }
   ],
   "source": [
    "recall"
   ]
  },
  {
   "cell_type": "code",
   "execution_count": 74,
   "metadata": {},
   "outputs": [
    {
     "data": {
      "text/plain": [
       "{'100': 0.08108108108108109,\n",
       " '2700': 0.22388059701492538,\n",
       " '300': 0.09142857142857143,\n",
       " '8100': 0.5526315789473685,\n",
       " '900': 0.13385826771653545}"
      ]
     },
     "execution_count": 74,
     "metadata": {},
     "output_type": "execute_result"
    }
   ],
   "source": [
    "precision"
   ]
  },
  {
   "cell_type": "code",
   "execution_count": null,
   "metadata": {},
   "outputs": [],
   "source": []
  }
 ],
 "metadata": {
  "kernelspec": {
   "display_name": "Python 3",
   "language": "python",
   "name": "python3"
  },
  "language_info": {
   "codemirror_mode": {
    "name": "ipython",
    "version": 3
   },
   "file_extension": ".py",
   "mimetype": "text/x-python",
   "name": "python",
   "nbconvert_exporter": "python",
   "pygments_lexer": "ipython3",
   "version": "3.7.3"
  }
 },
 "nbformat": 4,
 "nbformat_minor": 2
}
