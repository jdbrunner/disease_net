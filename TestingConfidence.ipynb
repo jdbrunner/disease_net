{
 "cells": [
  {
   "cell_type": "code",
   "execution_count": 2,
   "metadata": {},
   "outputs": [],
   "source": [
    "import numpy as np\n",
    "import json\n",
    "import matplotlib.pyplot as plt\n",
    "import covid_funs\n",
    "import importlib\n",
    "import subprocess\n",
    "import sys\n",
    "import shlex"
   ]
  },
  {
   "cell_type": "code",
   "execution_count": 3,
   "metadata": {},
   "outputs": [],
   "source": [
    "#from https://www.endpoint.com/blog/2015/01/28/getting-realtime-output-using-python\n",
    "def run_command(command):\n",
    "    process = subprocess.Popen(shlex.split(command), stdout=subprocess.PIPE, stderr = subprocess.STDOUT, text = False)\n",
    "    outlist = []\n",
    "    while True:\n",
    "        output = process.stdout.readline()\n",
    "        outlist += [output]\n",
    "        if output.decode(\"utf-8\") == '' and process.poll() is not None:\n",
    "            break\n",
    "        if output:\n",
    "            if '\\r' in output.decode(\"utf-8\"):\n",
    "                \n",
    "                sys.stdout.write('\\r' + output.decode(\"utf-8\").strip())\n",
    "            else:\n",
    "                sys.stdout.write(output.decode(\"utf-8\"))\n",
    "    rc = process.poll()\n",
    "    return rc,outlist"
   ]
  },
  {
   "cell_type": "code",
   "execution_count": 126,
   "metadata": {},
   "outputs": [
    {
     "data": {
      "text/plain": [
       "<module 'covid_funs' from '/Users/m197894/Documents/COVID_Model/disease_net/covid_funs.py'>"
      ]
     },
     "execution_count": 126,
     "metadata": {},
     "output_type": "execute_result"
    }
   ],
   "source": [
    "importlib.reload(covid_funs)"
   ]
  },
  {
   "cell_type": "markdown",
   "metadata": {},
   "source": [
    "We can generate a simulated outbreak using the SIR model. We also give sampling bias and capacity. If capacity is given as a list, samples will be later generated for each capacity in the list. Capacity can also be given as a list (implying max capacities) and a function (which should take values from 0 to 1) for time-varying capacty. For this, pass the function as a keyword argument capacityfun to gen_jsons."
   ]
  },
  {
   "cell_type": "code",
   "execution_count": 41,
   "metadata": {},
   "outputs": [],
   "source": [
    "Bias = 1 #Bias = 1 means no bias. Higher puts bias towards testing symptomatic individuals.\n",
    "capacities = [100,300,900,2700,8100]\n",
    "\n",
    "def SIR_model(t,X,params):\n",
    "    s,i,r= X\n",
    "    beta,recrate = params\n",
    "    if callable(beta):\n",
    "        dsdt = -(beta(s,i,r,t))*s*i\n",
    "    else:\n",
    "        dsdt = -beta*s*i\n",
    "    didt = -dsdt - recrate*i\n",
    "    drdt = recrate*i\n",
    "    return [dsdt,didt,drdt]\n",
    "\n",
    "timescale = 15 #1/gamma\n",
    "\n",
    "\n",
    "init_inf = 0.01\n",
    "\n",
    "s0 = (1-init_inf)\n",
    "i0 = init_inf\n",
    "r0 = 0\n",
    "\n",
    "R0 = 2.2\n",
    "\n",
    "end_time = 100\n",
    "\n",
    "dynamics = covid_funs.gen_jsons(end_time,[s0,i0,r0],SIR_model,1,-1,[0,2],[R0/timescale,1/timescale],Bias,capacities)"
   ]
  },
  {
   "cell_type": "code",
   "execution_count": 5,
   "metadata": {},
   "outputs": [
    {
     "data": {
      "text/plain": [
       "dict_keys(['TimePoints', 'Symptomatic', 'Asymptomatic', 'NonInfected'])"
      ]
     },
     "execution_count": 5,
     "metadata": {},
     "output_type": "execute_result"
    }
   ],
   "source": [
    "dynamics.keys()"
   ]
  },
  {
   "cell_type": "code",
   "execution_count": 43,
   "metadata": {},
   "outputs": [
    {
     "data": {
      "text/plain": [
       "<matplotlib.legend.Legend at 0x12e525a20>"
      ]
     },
     "execution_count": 43,
     "metadata": {},
     "output_type": "execute_result"
    },
    {
     "data": {
      "image/png": "[encoded data removed]",
      "text/plain": [
       "<Figure size 720x360 with 1 Axes>"
      ]
     },
     "metadata": {
      "needs_background": "light"
     },
     "output_type": "display_data"
    }
   ],
   "source": [
    "total_infected = np.array(dynamics['Symptomatic']) + np.array(dynamics['Asymptomatic'])\n",
    "\n",
    "fig,ax = plt.subplots(figsize = (10,5))\n",
    "ax.plot(dynamics[\"TimePoints\"],total_infected, label = \"Infection Proportion\")\n",
    "\n",
    "ax.legend()"
   ]
  },
  {
   "cell_type": "markdown",
   "metadata": {},
   "source": [
    "We use a .go executible to generate simulated sampling."
   ]
  },
  {
   "cell_type": "code",
   "execution_count": 44,
   "metadata": {},
   "outputs": [
    {
     "name": "stdout",
     "output_type": "stream",
     "text": [
      "Avg Tests Per Day: 900\n",
      "\n",
      "\n",
      "Average sum-square error: 7268.223999999228\n",
      "\n",
      "\n",
      "Avg Tests Per Day: 2700\n",
      "\n",
      "\n",
      "Average sum-square error: 3247.0587499995786\n",
      "\n",
      "\n",
      "Avg Tests Per Day: 8100\n",
      "\n",
      "\n",
      "Average sum-square error: 807.0784999999174\n",
      "\n",
      "\n",
      "Avg Tests Per Day: 100\n",
      "\n",
      "\n",
      "Average sum-square error: 9889.142749999382\n",
      "\n",
      "\n",
      "Avg Tests Per Day: 300\n",
      "\n",
      "\n",
      "Average sum-square error: 7592.956999999013\n",
      "\n",
      "\n",
      "CPU times: user 49 ms, sys: 19.9 ms, total: 68.9 ms\n",
      "Wall time: 1min 4s\n"
     ]
    }
   ],
   "source": [
    "%%time\n",
    "svfl = \"json_io/testresults.json\"\n",
    "dynamicsfl = \"json_io/dynamics.json\"\n",
    "biasfl = \"json_io/bias.json\"\n",
    "capfl = \"json_io/capacity.json\"\n",
    "num_trials = 10\n",
    "falsePos = 0.1\n",
    "falseNeg = 0.1\n",
    "smth = 5\n",
    "peak_tol = 3\n",
    "\n",
    "base_command = \"./disease_confidence\"\n",
    "opts = [\"-Dynamics=\"+dynamicsfl]\n",
    "opts +=[\"-TestingBias=\"+biasfl]\n",
    "opts +=[\"-TestingCapacities=\"+capfl]\n",
    "opts +=[\"-Trials=\"+str(num_trials)]\n",
    "opts +=[\"-SaveFile=\"+svfl]\n",
    "opts +=[\"-FalsePositive=\"+str(falsePos)]\n",
    "opts +=[\"-FalseNegative=\"+str(falseNeg)]\n",
    "opts +=[\"-Smoothing=\"+str(smth)]\n",
    "opts +=[\"-PeakTol=\"+str(peak_tol)]\n",
    "\n",
    "\n",
    "full_command = base_command + \" \" + \" \".join(opts)\n",
    "so = run_command(full_command)\n",
    "\n",
    "with open(svfl) as fl:\n",
    "    results = json.load(fl)"
   ]
  },
  {
   "cell_type": "code",
   "execution_count": 46,
   "metadata": {},
   "outputs": [
    {
     "data": {
      "text/plain": [
       "dict_keys(['Peaks', 'SumSqDistance', 'Performance'])"
      ]
     },
     "execution_count": 46,
     "metadata": {},
     "output_type": "execute_result"
    }
   ],
   "source": [
    "results.keys()"
   ]
  },
  {
   "cell_type": "code",
   "execution_count": 53,
   "metadata": {},
   "outputs": [
    {
     "data": {
      "text/plain": [
       "dict_keys(['DailyPositive', 'DailyTotal', 'DayTimes'])"
      ]
     },
     "execution_count": 53,
     "metadata": {},
     "output_type": "execute_result"
    }
   ],
   "source": [
    "results[\"Performance\"][\"100\"][0][\"Sample\"].keys()"
   ]
  },
  {
   "cell_type": "code",
   "execution_count": 57,
   "metadata": {},
   "outputs": [],
   "source": [
    "pos_prop = {}\n",
    "for ky in results[\"Performance\"]:\n",
    "    smps = []\n",
    "    for samp in results[\"Performance\"][ky]:\n",
    "        sample = samp[\"Sample\"]\n",
    "        smps += [(sample[\"DayTimes\"],np.array(sample[\"DailyPositive\"])/np.array(sample[\"DailyTotal\"]))]\n",
    "    pos_prop[ky] = smps"
   ]
  },
  {
   "cell_type": "code",
   "execution_count": 56,
   "metadata": {},
   "outputs": [
    {
     "data": {
      "text/plain": [
       "dict_keys(['100', '2700', '300', '8100', '900'])"
      ]
     },
     "execution_count": 56,
     "metadata": {},
     "output_type": "execute_result"
    }
   ],
   "source": [
    "pos_prop.keys()"
   ]
  },
  {
   "cell_type": "code",
   "execution_count": 58,
   "metadata": {},
   "outputs": [
    {
     "data": {
      "text/plain": [
       "<matplotlib.legend.Legend at 0x130f32898>"
      ]
     },
     "execution_count": 58,
     "metadata": {},
     "output_type": "execute_result"
    },
    {
     "data": {
      "image/png": "[encoded data removed]",
      "text/plain": [
       "<Figure size 720x360 with 1 Axes>"
      ]
     },
     "metadata": {
      "needs_background": "light"
     },
     "output_type": "display_data"
    }
   ],
   "source": [
    "\n",
    "fig,ax = plt.subplots(figsize = (10,5))\n",
    "ax.plot(dynamics[\"TimePoints\"],total_infected, label = \"Infection Proportion\", color = 'red')\n",
    "ax.bar(pos_prop[\"900\"][0][0],pos_prop[\"900\"][0][1], label = \"Positive Test Proportion\")\n",
    "\n",
    "ax.legend()"
   ]
  },
  {
   "cell_type": "code",
   "execution_count": 182,
   "metadata": {},
   "outputs": [],
   "source": [
    "performance = {}\n",
    "for ky,val in samples.items():\n",
    "    performance[ky]=[covid_funs.judge_peaks(covid_funs.findPeak_smth,dynamics,v,smoothing = 5) for v in val]"
   ]
  },
  {
   "cell_type": "code",
   "execution_count": 16,
   "metadata": {},
   "outputs": [],
   "source": [
    "found_prob = {}\n",
    "for ky,val in performance.items():\n",
    "    found_prob[ky] = sum([pk[\"Found\"] for dyn in val for  pk in dyn[0].values()])/sum([len(v[0]) for v in val])"
   ]
  },
  {
   "cell_type": "code",
   "execution_count": 17,
   "metadata": {},
   "outputs": [],
   "source": [
    "false_pos = {}\n",
    "for ky,val in performance.items():\n",
    "    false_pos[ky] = 1-sum([pk[\"Real\"] for dyn in val for  pk in dyn[1].values()])/sum([len(v[1]) for v in val])"
   ]
  },
  {
   "cell_type": "code",
   "execution_count": 18,
   "metadata": {},
   "outputs": [
    {
     "data": {
      "text/plain": [
       "{'100': 0.6, '1000': 0.7, '2500': 0.6, '500': 0.8, '5000': 0.6}"
      ]
     },
     "execution_count": 18,
     "metadata": {},
     "output_type": "execute_result"
    }
   ],
   "source": [
    "found_prob"
   ]
  },
  {
   "cell_type": "code",
   "execution_count": 19,
   "metadata": {},
   "outputs": [
    {
     "data": {
      "text/plain": [
       "{'100': 0.9615384615384616,\n",
       " '1000': 0.925,\n",
       " '2500': 0.8552631578947368,\n",
       " '500': 0.9317073170731707,\n",
       " '5000': 0.864406779661017}"
      ]
     },
     "execution_count": 19,
     "metadata": {},
     "output_type": "execute_result"
    }
   ],
   "source": [
    "false_pos"
   ]
  },
  {
   "cell_type": "code",
   "execution_count": 20,
   "metadata": {},
   "outputs": [],
   "source": [
    "mean_sq_error = {}\n",
    "for ky,val in performance.items():\n",
    "    mean_sq_error[ky] =[(sum([pk[\"SqDist\"] for pk in dyn[1].values()])/len(dyn[1]))**(1/2) for dyn in val]"
   ]
  },
  {
   "cell_type": "code",
   "execution_count": 21,
   "metadata": {},
   "outputs": [
    {
     "data": {
      "text/plain": [
       "{'100': [64.94749181876567,\n",
       "  63.164773498456434,\n",
       "  53.602158434983075,\n",
       "  65.41100551785874,\n",
       "  68.69025147827291,\n",
       "  66.35444126055316,\n",
       "  61.56137181707554,\n",
       "  59.20453271117489,\n",
       "  59.755790514394405,\n",
       "  62.36565940462091],\n",
       " '1000': [72.08927528496427,\n",
       "  84.03528316005024,\n",
       "  83.61689014895349,\n",
       "  83.44030712396446,\n",
       "  88.7516963844157,\n",
       "  76.65327600450287,\n",
       "  82.05286764175654,\n",
       "  83.2069151891505,\n",
       "  83.75778254206583,\n",
       "  90.2086213016431],\n",
       " '2500': [72.15090089527817,\n",
       "  83.50613108372164,\n",
       "  90.35197993280589,\n",
       "  3.1666228067111675,\n",
       "  87.21572392636739,\n",
       "  97.80499366450961,\n",
       "  57.34564063640875,\n",
       "  78.7814742297865,\n",
       "  103.55827724385334,\n",
       "  81.617415420977],\n",
       " '500': [73.92418314017011,\n",
       "  71.87134686368591,\n",
       "  83.91281978058986,\n",
       "  88.00754976585728,\n",
       "  58.24361910687581,\n",
       "  70.76123585693121,\n",
       "  75.60633762770124,\n",
       "  81.80180825222403,\n",
       "  83.03743816113281,\n",
       "  69.46076401894429],\n",
       " '5000': [92.0490222653147,\n",
       "  89.01437885452853,\n",
       "  76.19297321057186,\n",
       "  76.30008191345712,\n",
       "  64.14516739396797,\n",
       "  90.41564142495537,\n",
       "  98.92056156330926,\n",
       "  69.9278378044126,\n",
       "  77.79772383131561,\n",
       "  56.85685974445069]}"
      ]
     },
     "execution_count": 21,
     "metadata": {},
     "output_type": "execute_result"
    }
   ],
   "source": [
    "mean_sq_error"
   ]
  },
  {
   "cell_type": "code",
   "execution_count": 28,
   "metadata": {},
   "outputs": [
    {
     "data": {
      "text/plain": [
       "[{'Peak': 19, 'Real': False, 'FoundOn': 21, 'SqDist': 37.04999999999702},\n",
       " {'Peak': 22, 'Real': False, 'FoundOn': 24, 'SqDist': 34.04999999999702},\n",
       " {'Peak': 30, 'Real': False, 'FoundOn': 31, 'SqDist': 27.04999999999702},\n",
       " {'Peak': 47, 'Real': False, 'FoundOn': 48, 'SqDist': 10.04999999999702},\n",
       " {'Peak': 48, 'Real': False, 'FoundOn': 51, 'SqDist': 7.04999999999702},\n",
       " {'Peak': 59, 'Real': True, 'FoundOn': 60, 'SqDist': -1.95000000000298},\n",
       " {'Peak': 60, 'Real': True, 'FoundOn': 61, 'SqDist': -2.95000000000298},\n",
       " {'Peak': 62, 'Real': False, 'FoundOn': 64, 'SqDist': -5.95000000000298},\n",
       " {'Peak': 61, 'Real': False, 'FoundOn': 65, 'SqDist': -6.95000000000298},\n",
       " {'Peak': 63, 'Real': False, 'FoundOn': 69, 'SqDist': -10.95000000000298},\n",
       " {'Peak': 100, 'Real': False, 'FoundOn': 104, 'SqDist': -45.95000000000298},\n",
       " {'Peak': 125, 'Real': False, 'FoundOn': 131, 'SqDist': -72.95000000000297},\n",
       " {'Peak': 148, 'Real': False, 'FoundOn': 150, 'SqDist': -91.95000000000297},\n",
       " {'Peak': 150, 'Real': False, 'FoundOn': 154, 'SqDist': -95.95000000000297},\n",
       " {'Peak': 159, 'Real': False, 'FoundOn': 163, 'SqDist': -104.95000000000297},\n",
       " {'Peak': 160, 'Real': False, 'FoundOn': 164, 'SqDist': -105.95000000000297},\n",
       " {'Peak': 170, 'Real': False, 'FoundOn': 173, 'SqDist': -114.95000000000297},\n",
       " {'Peak': 178, 'Real': False, 'FoundOn': 180, 'SqDist': -121.95000000000297},\n",
       " {'Peak': 179, 'Real': False, 'FoundOn': 181, 'SqDist': -122.95000000000297},\n",
       " {'Peak': 180, 'Real': False, 'FoundOn': 184, 'SqDist': -125.95000000000297},\n",
       " {'Peak': 181, 'Real': False, 'FoundOn': 187, 'SqDist': -128.95000000000297}]"
      ]
     },
     "execution_count": 28,
     "metadata": {},
     "output_type": "execute_result"
    }
   ],
   "source": [
    "results[\"Performance\"][\"500\"][0][\"Precisions\"]"
   ]
  },
  {
   "cell_type": "code",
   "execution_count": 35,
   "metadata": {},
   "outputs": [],
   "source": [
    "found_prob = {}\n",
    "for ky,val in results[\"Performance\"].items():\n",
    "    found_prob[ky] = sum([pk[\"Found\"] for dyn in val for  pk in dyn[\"Recalls\"]])/sum([len(v[\"Recalls\"]) for v in val])\n",
    "    \n",
    "false_pos = {}\n",
    "for ky,val in results[\"Performance\"].items():\n",
    "    false_pos[ky] = 1-sum([pk[\"Real\"] for dyn in val for  pk in dyn[\"Precisions\"]])/sum([len(v[\"Precisions\"]) for v in val])\n",
    "    \n",
    "mean_sq_error = {}\n",
    "for ky,val in results[\"Performance\"].items():\n",
    "    mean_sq_error[ky] =[(sum([(pk[\"SqDist\"])**2 for pk in dyn[\"Precisions\"]])/len(dyn[\"Precisions\"]))**(1/2) for dyn in val]"
   ]
  },
  {
   "cell_type": "code",
   "execution_count": 36,
   "metadata": {},
   "outputs": [
    {
     "data": {
      "text/plain": [
       "{'100': 0.6, '1000': 0.7, '2500': 0.8, '500': 0.7, '5000': 0.9}"
      ]
     },
     "execution_count": 36,
     "metadata": {},
     "output_type": "execute_result"
    }
   ],
   "source": [
    "found_prob"
   ]
  },
  {
   "cell_type": "code",
   "execution_count": 37,
   "metadata": {},
   "outputs": [
    {
     "data": {
      "text/plain": [
       "{'100': 0.9739413680781759,\n",
       " '1000': 0.9171974522292994,\n",
       " '2500': 0.8192771084337349,\n",
       " '500': 0.946078431372549,\n",
       " '5000': 0.7068965517241379}"
      ]
     },
     "execution_count": 37,
     "metadata": {},
     "output_type": "execute_result"
    }
   ],
   "source": [
    "false_pos"
   ]
  },
  {
   "cell_type": "code",
   "execution_count": 38,
   "metadata": {},
   "outputs": [
    {
     "data": {
      "text/plain": [
       "{'100': [69.50745487920003,\n",
       "  65.23183033756918,\n",
       "  68.571878346741,\n",
       "  67.97483624157701,\n",
       "  67.63127358454008,\n",
       "  66.13190172621793,\n",
       "  69.6618573898245,\n",
       "  64.83540524071294,\n",
       "  58.16034367954907,\n",
       "  83.44708145421362],\n",
       " '1000': [73.9146482591439,\n",
       "  93.91342775005674,\n",
       "  66.67861351288113,\n",
       "  78.85145845195457,\n",
       "  77.90674446627614,\n",
       "  70.67344503654542,\n",
       "  83.35742555247957,\n",
       "  75.11616200337927,\n",
       "  74.22643759781133,\n",
       "  97.4796260764293],\n",
       " '2500': [79.5618155901454,\n",
       "  99.40009770154842,\n",
       "  83.4560458619351,\n",
       "  76.49682999968218,\n",
       "  56.25791055487354,\n",
       "  78.44399807081244,\n",
       "  82.57482970009893,\n",
       "  83.23135259958171,\n",
       "  70.45624528741406,\n",
       "  88.04875070096342],\n",
       " '500': [77.66176742160788,\n",
       "  68.91478433544006,\n",
       "  82.07312128122342,\n",
       "  72.06204870551909,\n",
       "  68.35438903245519,\n",
       "  75.93502156449458,\n",
       "  74.96156237254955,\n",
       "  86.99881268782507,\n",
       "  85.56353127714956,\n",
       "  69.44263656232752],\n",
       " '5000': [78.53390305194148,\n",
       "  74.83706189672071,\n",
       "  92.2599723607177,\n",
       "  74.61134297142947,\n",
       "  110.34447199565815,\n",
       "  63.10009904905203,\n",
       "  101.00701354715297,\n",
       "  60.21579942174796,\n",
       "  22.637781840688344,\n",
       "  98.20585522259078]}"
      ]
     },
     "execution_count": 38,
     "metadata": {},
     "output_type": "execute_result"
    }
   ],
   "source": [
    "mean_sq_error"
   ]
  },
  {
   "cell_type": "code",
   "execution_count": null,
   "metadata": {},
   "outputs": [],
   "source": []
  }
 ],
 "metadata": {
  "kernelspec": {
   "display_name": "Python 3",
   "language": "python",
   "name": "python3"
  },
  "language_info": {
   "codemirror_mode": {
    "name": "ipython",
    "version": 3
   },
   "file_extension": ".py",
   "mimetype": "text/x-python",
   "name": "python",
   "nbconvert_exporter": "python",
   "pygments_lexer": "ipython3",
   "version": "3.7.3"
  }
 },
 "nbformat": 4,
 "nbformat_minor": 2
}
