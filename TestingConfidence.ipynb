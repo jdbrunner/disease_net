{
 "cells": [
  {
   "cell_type": "code",
   "execution_count": 29,
   "metadata": {},
   "outputs": [],
   "source": [
    "import numpy as np\n",
    "import json\n",
    "import matplotlib.pyplot as plt\n",
    "import covid_funs\n",
    "import importlib\n",
    "import subprocess\n",
    "import sys\n",
    "import shlex"
   ]
  },
  {
   "cell_type": "code",
   "execution_count": 30,
   "metadata": {},
   "outputs": [],
   "source": [
    "#from https://www.endpoint.com/blog/2015/01/28/getting-realtime-output-using-python\n",
    "def run_command(command):\n",
    "    process = subprocess.Popen(shlex.split(command), stdout=subprocess.PIPE, stderr = subprocess.STDOUT, text = False)\n",
    "    outlist = []\n",
    "    while True:\n",
    "        output = process.stdout.readline()\n",
    "        outlist += [output]\n",
    "        if output.decode(\"utf-8\") == '' and process.poll() is not None:\n",
    "            break\n",
    "        if output:\n",
    "            if '\\r' in output.decode(\"utf-8\"):\n",
    "                \n",
    "                sys.stdout.write('\\r' + output.decode(\"utf-8\").strip())\n",
    "            else:\n",
    "                sys.stdout.write(output.decode(\"utf-8\"))\n",
    "    rc = process.poll()\n",
    "    return rc,outlist"
   ]
  },
  {
   "cell_type": "code",
   "execution_count": 126,
   "metadata": {},
   "outputs": [
    {
     "data": {
      "text/plain": [
       "<module 'covid_funs' from '/Users/m197894/Documents/COVID_Model/disease_net/covid_funs.py'>"
      ]
     },
     "execution_count": 126,
     "metadata": {},
     "output_type": "execute_result"
    }
   ],
   "source": [
    "importlib.reload(covid_funs)"
   ]
  },
  {
   "cell_type": "markdown",
   "metadata": {},
   "source": [
    "We can generate a simulated outbreak using the SIR model. We also give sampling bias and capacity. If capacity is given as a list, samples will be later generated for each capacity in the list. Capacity can also be given as a list (implying max capacities) and a function (which should take values from 0 to 1) for time-varying capacty. For this, pass the function as a keyword argument capacityfun to gen_jsons."
   ]
  },
  {
   "cell_type": "code",
   "execution_count": 19,
   "metadata": {},
   "outputs": [],
   "source": [
    "Bias = 1 #Bias = 1 means no bias. Higher puts bias towards testing symptomatic individuals.\n",
    "capacities = [100,500,1000,2500,5000]\n",
    "\n",
    "def SIR_model(t,X,params):\n",
    "    s,i,r= X\n",
    "    beta,recrate = params\n",
    "    if callable(beta):\n",
    "        dsdt = -(beta(s,i,r,t))*s*i\n",
    "    else:\n",
    "        dsdt = -beta*s*i\n",
    "    didt = -dsdt - recrate*i\n",
    "    drdt = recrate*i\n",
    "    return [dsdt,didt,drdt]\n",
    "\n",
    "timescale = 15 #1/gamma\n",
    "\n",
    "\n",
    "init_inf = 0.01\n",
    "\n",
    "s0 = (1-init_inf)\n",
    "i0 = init_inf\n",
    "r0 = 0\n",
    "\n",
    "R0 = 2.2\n",
    "\n",
    "end_time = 200\n",
    "\n",
    "dynamics = covid_funs.gen_jsons(end_time,[s0,i0,r0],SIR_model,1,-1,[0,2],[R0/timescale,1/timescale],Bias,capacities)"
   ]
  },
  {
   "cell_type": "code",
   "execution_count": 16,
   "metadata": {},
   "outputs": [
    {
     "data": {
      "text/plain": [
       "dict_keys(['TimePoints', 'Symptomatic', 'Asymptomatic', 'NonInfected'])"
      ]
     },
     "execution_count": 16,
     "metadata": {},
     "output_type": "execute_result"
    }
   ],
   "source": [
    "dynamics.keys()"
   ]
  },
  {
   "cell_type": "code",
   "execution_count": 36,
   "metadata": {},
   "outputs": [
    {
     "data": {
      "text/plain": [
       "<matplotlib.legend.Legend at 0x12bbea400>"
      ]
     },
     "execution_count": 36,
     "metadata": {},
     "output_type": "execute_result"
    },
    {
     "data": {
      "image/png": "[encoded data removed]",
      "text/plain": [
       "<Figure size 720x360 with 1 Axes>"
      ]
     },
     "metadata": {
      "needs_background": "light"
     },
     "output_type": "display_data"
    }
   ],
   "source": [
    "total_infected = np.array(dynamics['Symptomatic']) + np.array(dynamics['Asymptomatic'])\n",
    "\n",
    "fig,ax = plt.subplots(figsize = (10,5))\n",
    "ax.plot(dynamics[\"TimePoints\"],total_infected, label = \"Infection Proportion\")\n",
    "\n",
    "ax.legend()"
   ]
  },
  {
   "cell_type": "markdown",
   "metadata": {},
   "source": [
    "We use a .go executible to generate simulated sampling."
   ]
  },
  {
   "cell_type": "code",
   "execution_count": 158,
   "metadata": {},
   "outputs": [],
   "source": [
    "svfl = \"json_io/sample_sims.json\"\n",
    "dynamicsfl = \"json_io/dynamics.json\"\n",
    "biasfl = \"json_io/bias.json\"\n",
    "capfl = \"json_io/capacity.json\"\n",
    "num_trials = 10\n",
    "falsePos = 0\n",
    "falseNeg = 0\n",
    "\n",
    "base_command = \"./disease_confidence\"\n",
    "opts = [\"-Dynamics=\"+dynamicsfl]\n",
    "opts +=[\"-TestingBias=\"+biasfl]\n",
    "opts +=[\"-TestingCapacities=\"+capfl]\n",
    "opts +=[\"-Trials=\"+str(num_trials)]\n",
    "opts +=[\"-SaveFile=\"+svfl]\n",
    "opts +=[\"-FalsePositive=\"+str(falsePos)]\n",
    "opts +=[\"-FalseNegative=\"+str(falseNeg)]\n",
    "\n",
    "\n",
    "full_command = base_command + \" \" + \" \".join(opts)\n",
    "so = run_command(full_command)"
   ]
  },
  {
   "cell_type": "markdown",
   "metadata": {},
   "source": [
    "And load the results from that executible into a dict keyed by max sample/day."
   ]
  },
  {
   "cell_type": "code",
   "execution_count": 171,
   "metadata": {},
   "outputs": [],
   "source": [
    "with open(svfl) as fl:\n",
    "    samples = json.load(fl)"
   ]
  },
  {
   "cell_type": "code",
   "execution_count": 172,
   "metadata": {},
   "outputs": [
    {
     "data": {
      "text/plain": [
       "dict_keys(['DailyPositive', 'DailyTotal', 'DayTimes'])"
      ]
     },
     "execution_count": 172,
     "metadata": {},
     "output_type": "execute_result"
    }
   ],
   "source": [
    "samples[\"100\"][0].keys()"
   ]
  },
  {
   "cell_type": "code",
   "execution_count": 181,
   "metadata": {},
   "outputs": [
    {
     "data": {
      "text/plain": [
       "<matplotlib.legend.Legend at 0x12f3f1e48>"
      ]
     },
     "execution_count": 181,
     "metadata": {},
     "output_type": "execute_result"
    },
    {
     "data": {
      "image/png": "[encoded data removed]",
      "text/plain": [
       "<Figure size 720x360 with 1 Axes>"
      ]
     },
     "metadata": {
      "needs_background": "light"
     },
     "output_type": "display_data"
    }
   ],
   "source": [
    "pos_prop = np.array(samples[\"5000\"][0][\"DailyPositive\"])/np.array(samples[\"5000\"][0][\"DailyTotal\"])\n",
    "\n",
    "fig,ax = plt.subplots(figsize = (10,5))\n",
    "ax.plot(dynamics[\"TimePoints\"],total_infected, label = \"Infection Proportion\", color = 'red')\n",
    "ax.bar(samples[\"5000\"][0][\"DayTimes\"],pos_prop, label = \"Positive Test Proportion\")\n",
    "\n",
    "ax.legend()"
   ]
  },
  {
   "cell_type": "code",
   "execution_count": 182,
   "metadata": {},
   "outputs": [],
   "source": [
    "performance = {}\n",
    "for ky,val in samples.items():\n",
    "    performance[ky]=[covid_funs.judge_peaks(covid_funs.findPeak_smth,dynamics,v,smoothing = 5) for v in val]"
   ]
  },
  {
   "cell_type": "code",
   "execution_count": 175,
   "metadata": {},
   "outputs": [],
   "source": [
    "found_prob = {}\n",
    "for ky,val in performance.items():\n",
    "    found_prob[ky] = sum([pk[\"Found\"] for dyn in val for  pk in dyn[0].values()])/sum([len(v[0]) for v in val])"
   ]
  },
  {
   "cell_type": "code",
   "execution_count": 176,
   "metadata": {},
   "outputs": [],
   "source": [
    "false_pos = {}\n",
    "for ky,val in performance.items():\n",
    "    false_pos[ky] = 1-sum([pk[\"Real\"] for dyn in val for  pk in dyn[1].values()])/sum([len(v[1]) for v in val])"
   ]
  },
  {
   "cell_type": "code",
   "execution_count": 177,
   "metadata": {},
   "outputs": [
    {
     "data": {
      "text/plain": [
       "{'100': 0.6, '1000': 0.6, '2500': 0.6, '500': 0.7, '5000': 0.8}"
      ]
     },
     "execution_count": 177,
     "metadata": {},
     "output_type": "execute_result"
    }
   ],
   "source": [
    "found_prob"
   ]
  },
  {
   "cell_type": "code",
   "execution_count": 178,
   "metadata": {},
   "outputs": [
    {
     "data": {
      "text/plain": [
       "{'100': 0.9754768392370572,\n",
       " '1000': 0.9626865671641791,\n",
       " '2500': 0.9617834394904459,\n",
       " '500': 0.9777777777777777,\n",
       " '5000': 0.9038461538461539}"
      ]
     },
     "execution_count": 178,
     "metadata": {},
     "output_type": "execute_result"
    }
   ],
   "source": [
    "false_pos"
   ]
  },
  {
   "cell_type": "code",
   "execution_count": 179,
   "metadata": {},
   "outputs": [],
   "source": [
    "mean_sq_error = {}\n",
    "for ky,val in performance.items():\n",
    "    mean_sq_error[ky] =[(sum([pk[\"SqDist\"] for pk in dyn[1].values()])/len(dyn[1]))**(1/2) for dyn in val]"
   ]
  },
  {
   "cell_type": "code",
   "execution_count": 180,
   "metadata": {},
   "outputs": [
    {
     "data": {
      "text/plain": [
       "{'100': [70.00491264274174,\n",
       "  63.83161812905248,\n",
       "  64.20889277790823,\n",
       "  52.744227777358944,\n",
       "  65.46762418992598,\n",
       "  66.68884839311758,\n",
       "  66.31540586889149,\n",
       "  66.4756798649985,\n",
       "  66.53815128874061,\n",
       "  59.705604147909376],\n",
       " '1000': [80.18872530890475,\n",
       "  75.44311346680688,\n",
       "  78.84733667030449,\n",
       "  70.16311861858709,\n",
       "  79.02115223154074,\n",
       "  80.0782160254492,\n",
       "  80.71250935677203,\n",
       "  82.63821702937132,\n",
       "  79.43903443715818,\n",
       "  67.54125591074127],\n",
       " '2500': [72.833388634611,\n",
       "  94.28560456015094,\n",
       "  91.2961983509378,\n",
       "  94.09431438721727,\n",
       "  76.58692773574565,\n",
       "  86.68660095836421,\n",
       "  78.88146698264227,\n",
       "  85.47208608663065,\n",
       "  86.00334134336076,\n",
       "  86.01276794755726],\n",
       " '500': [71.53185042343233,\n",
       "  75.75973193431278,\n",
       "  76.00844414327496,\n",
       "  79.47431117262971,\n",
       "  75.68997621878545,\n",
       "  77.38903807572493,\n",
       "  73.04049023853817,\n",
       "  70.6246120933318,\n",
       "  78.9044292268389,\n",
       "  73.6387615721683],\n",
       " '5000': [92.73053704147529,\n",
       "  93.58222731497268,\n",
       "  90.39733126591952,\n",
       "  81.15755766819876,\n",
       "  87.25382382868757,\n",
       "  90.7055814159216,\n",
       "  95.0629528260114,\n",
       "  75.13303201655204,\n",
       "  76.71988008332842,\n",
       "  82.26543928041936]}"
      ]
     },
     "execution_count": 180,
     "metadata": {},
     "output_type": "execute_result"
    }
   ],
   "source": [
    "mean_sq_error"
   ]
  }
 ],
 "metadata": {
  "kernelspec": {
   "display_name": "Python 3",
   "language": "python",
   "name": "python3"
  },
  "language_info": {
   "codemirror_mode": {
    "name": "ipython",
    "version": 3
   },
   "file_extension": ".py",
   "mimetype": "text/x-python",
   "name": "python",
   "nbconvert_exporter": "python",
   "pygments_lexer": "ipython3",
   "version": "3.7.3"
  }
 },
 "nbformat": 4,
 "nbformat_minor": 2
}
